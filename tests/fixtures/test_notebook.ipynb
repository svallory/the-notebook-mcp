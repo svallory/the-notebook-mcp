version https://git-lfs.github.com/spec/v1
oid sha256:4e2a94679ee003be916bc81fb063168711abd8ef95de490cd785ec53c8d20cde
size 4095
