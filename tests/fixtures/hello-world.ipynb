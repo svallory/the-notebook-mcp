version https://git-lfs.github.com/spec/v1
oid sha256:793640a466613cafdd4ed3dcab353b3b439b8c00787e3f793273cadb74aa4234
size 1613
